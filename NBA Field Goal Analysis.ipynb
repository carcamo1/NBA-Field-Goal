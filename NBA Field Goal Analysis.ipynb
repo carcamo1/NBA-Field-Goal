{
 "cells": [
  {
   "cell_type": "code",
   "execution_count": 2,
   "metadata": {},
   "outputs": [
    {
     "name": "stdout",
     "output_type": "stream",
     "text": [
      "Requirement already satisfied: pandas in /Users/alexander_carcamo/opt/anaconda3/lib/python3.8/site-packages (1.1.3)\n",
      "Requirement already satisfied: numpy>=1.15.4 in /Users/alexander_carcamo/opt/anaconda3/lib/python3.8/site-packages (from pandas) (1.19.2)\n",
      "Requirement already satisfied: pytz>=2017.2 in /Users/alexander_carcamo/opt/anaconda3/lib/python3.8/site-packages (from pandas) (2020.1)\n",
      "Requirement already satisfied: python-dateutil>=2.7.3 in /Users/alexander_carcamo/opt/anaconda3/lib/python3.8/site-packages (from pandas) (2.8.1)\n",
      "Requirement already satisfied: six>=1.5 in /Users/alexander_carcamo/opt/anaconda3/lib/python3.8/site-packages (from python-dateutil>=2.7.3->pandas) (1.15.0)\n",
      "Requirement already satisfied: matplotlib in /Users/alexander_carcamo/opt/anaconda3/lib/python3.8/site-packages (3.3.2)\n",
      "Requirement already satisfied: certifi>=2020.06.20 in /Users/alexander_carcamo/opt/anaconda3/lib/python3.8/site-packages (from matplotlib) (2020.6.20)\n",
      "Requirement already satisfied: pyparsing!=2.0.4,!=2.1.2,!=2.1.6,>=2.0.3 in /Users/alexander_carcamo/opt/anaconda3/lib/python3.8/site-packages (from matplotlib) (2.4.7)\n",
      "Requirement already satisfied: pillow>=6.2.0 in /Users/alexander_carcamo/opt/anaconda3/lib/python3.8/site-packages (from matplotlib) (8.0.1)\n",
      "Requirement already satisfied: cycler>=0.10 in /Users/alexander_carcamo/opt/anaconda3/lib/python3.8/site-packages (from matplotlib) (0.10.0)\n",
      "Requirement already satisfied: kiwisolver>=1.0.1 in /Users/alexander_carcamo/opt/anaconda3/lib/python3.8/site-packages (from matplotlib) (1.3.0)\n",
      "Requirement already satisfied: python-dateutil>=2.1 in /Users/alexander_carcamo/opt/anaconda3/lib/python3.8/site-packages (from matplotlib) (2.8.1)\n",
      "Requirement already satisfied: numpy>=1.15 in /Users/alexander_carcamo/opt/anaconda3/lib/python3.8/site-packages (from matplotlib) (1.19.2)\n",
      "Requirement already satisfied: six in /Users/alexander_carcamo/opt/anaconda3/lib/python3.8/site-packages (from cycler>=0.10->matplotlib) (1.15.0)\n",
      "Requirement already satisfied: seaborn in /Users/alexander_carcamo/opt/anaconda3/lib/python3.8/site-packages (0.11.0)\n",
      "Requirement already satisfied: pandas>=0.23 in /Users/alexander_carcamo/opt/anaconda3/lib/python3.8/site-packages (from seaborn) (1.1.3)\n",
      "Requirement already satisfied: matplotlib>=2.2 in /Users/alexander_carcamo/opt/anaconda3/lib/python3.8/site-packages (from seaborn) (3.3.2)\n",
      "Requirement already satisfied: numpy>=1.15 in /Users/alexander_carcamo/opt/anaconda3/lib/python3.8/site-packages (from seaborn) (1.19.2)\n",
      "Requirement already satisfied: scipy>=1.0 in /Users/alexander_carcamo/opt/anaconda3/lib/python3.8/site-packages (from seaborn) (1.5.2)\n",
      "Requirement already satisfied: python-dateutil>=2.7.3 in /Users/alexander_carcamo/opt/anaconda3/lib/python3.8/site-packages (from pandas>=0.23->seaborn) (2.8.1)\n",
      "Requirement already satisfied: pytz>=2017.2 in /Users/alexander_carcamo/opt/anaconda3/lib/python3.8/site-packages (from pandas>=0.23->seaborn) (2020.1)\n",
      "Requirement already satisfied: certifi>=2020.06.20 in /Users/alexander_carcamo/opt/anaconda3/lib/python3.8/site-packages (from matplotlib>=2.2->seaborn) (2020.6.20)\n",
      "Requirement already satisfied: pyparsing!=2.0.4,!=2.1.2,!=2.1.6,>=2.0.3 in /Users/alexander_carcamo/opt/anaconda3/lib/python3.8/site-packages (from matplotlib>=2.2->seaborn) (2.4.7)\n",
      "Requirement already satisfied: kiwisolver>=1.0.1 in /Users/alexander_carcamo/opt/anaconda3/lib/python3.8/site-packages (from matplotlib>=2.2->seaborn) (1.3.0)\n",
      "Requirement already satisfied: pillow>=6.2.0 in /Users/alexander_carcamo/opt/anaconda3/lib/python3.8/site-packages (from matplotlib>=2.2->seaborn) (8.0.1)\n",
      "Requirement already satisfied: cycler>=0.10 in /Users/alexander_carcamo/opt/anaconda3/lib/python3.8/site-packages (from matplotlib>=2.2->seaborn) (0.10.0)\n",
      "Requirement already satisfied: six>=1.5 in /Users/alexander_carcamo/opt/anaconda3/lib/python3.8/site-packages (from python-dateutil>=2.7.3->pandas>=0.23->seaborn) (1.15.0)\n",
      "Requirement already satisfied: scikit-learn in /Users/alexander_carcamo/opt/anaconda3/lib/python3.8/site-packages (0.23.2)\n",
      "Requirement already satisfied: scipy>=0.19.1 in /Users/alexander_carcamo/opt/anaconda3/lib/python3.8/site-packages (from scikit-learn) (1.5.2)\n",
      "Requirement already satisfied: joblib>=0.11 in /Users/alexander_carcamo/opt/anaconda3/lib/python3.8/site-packages (from scikit-learn) (0.17.0)\n",
      "Requirement already satisfied: numpy>=1.13.3 in /Users/alexander_carcamo/opt/anaconda3/lib/python3.8/site-packages (from scikit-learn) (1.19.2)\n",
      "Requirement already satisfied: threadpoolctl>=2.0.0 in /Users/alexander_carcamo/opt/anaconda3/lib/python3.8/site-packages (from scikit-learn) (2.1.0)\n"
     ]
    }
   ],
   "source": [
    "!pip install pandas\n",
    "!pip install matplotlib\n",
    "!pip install seaborn\n",
    "!pip install scikit-learn\n"
   ]
  },
  {
   "cell_type": "code",
   "execution_count": 4,
   "metadata": {},
   "outputs": [
    {
     "name": "stdout",
     "output_type": "stream",
     "text": [
      "Number of records in the combined dataset: 624925\n"
     ]
    }
   ],
   "source": [
    "import pandas as pd\n",
    "\n",
    "# Load the 2021, 2022, and 2023 datasets\n",
    "shots_2021 = pd.read_csv(\"NBA_2021_Shots.csv\")\n",
    "shots_2022 = pd.read_csv(\"NBA_2022_Shots.csv\")\n",
    "shots_2023 = pd.read_csv(\"NBA_2023_Shots.csv\")\n",
    "\n",
    "# Combine the datasets into one DataFrame\n",
    "data = pd.concat([shots_2021, shots_2022, shots_2023], ignore_index=True)\n",
    "\n",
    "# Check how many records are in the combined DataFrame\n",
    "print(\"Number of records in the combined dataset:\", len(data))\n",
    "\n"
   ]
  },
  {
   "cell_type": "code",
   "execution_count": 5,
   "metadata": {},
   "outputs": [
    {
     "name": "stdout",
     "output_type": "stream",
     "text": [
      "Cleaned Data Shape (after dropping Backcourt shots): (623651, 26)\n"
     ]
    }
   ],
   "source": [
    "import pandas as pd\n",
    "\n",
    "# Load the dataset\n",
    "\n",
    "# Drop all instances of the Backcourt shots\n",
    "data = data[data['ZONE_NAME'] != 'Back Court']\n",
    "\n",
    "# Display the shape of the cleaned dataset\n",
    "print(\"Cleaned Data Shape (after dropping Backcourt shots):\", data.shape)\n"
   ]
  },
  {
   "cell_type": "code",
   "execution_count": 6,
   "metadata": {},
   "outputs": [
    {
     "name": "stdout",
     "output_type": "stream",
     "text": [
      "               BASIC_ZONE          ZONE_NAME  Shots_Made  Shots_Attempted  \\\n",
      "0       Above the Break 3             Center       16090            46470   \n",
      "1       Above the Break 3   Left Side Center       25225            71067   \n",
      "2       Above the Break 3  Right Side Center       23638            66234   \n",
      "3   In The Paint (Non-RA)             Center       44720           103180   \n",
      "4   In The Paint (Non-RA)          Left Side        2711             6268   \n",
      "5   In The Paint (Non-RA)         Right Side        3002             6885   \n",
      "6           Left Corner 3          Left Side       12276            31614   \n",
      "7               Mid-Range             Center        7716            18027   \n",
      "8               Mid-Range          Left Side        7597            18726   \n",
      "9               Mid-Range   Left Side Center        4384            10809   \n",
      "10              Mid-Range         Right Side        7885            18999   \n",
      "11              Mid-Range  Right Side Center        4698            11472   \n",
      "12        Restricted Area             Center      121256           185410   \n",
      "13         Right Corner 3         Right Side       10973            28490   \n",
      "\n",
      "    Efficiency  \n",
      "0     0.346245  \n",
      "1     0.354947  \n",
      "2     0.356886  \n",
      "3     0.433417  \n",
      "4     0.432514  \n",
      "5     0.436020  \n",
      "6     0.388309  \n",
      "7     0.428025  \n",
      "8     0.405693  \n",
      "9     0.405588  \n",
      "10    0.415022  \n",
      "11    0.409519  \n",
      "12    0.653988  \n",
      "13    0.385153  \n"
     ]
    }
   ],
   "source": [
    "# Group the data by BASIC_ZONE and ZONE_NAME to calculate league-wide averages\n",
    "league_avg = data.groupby(['BASIC_ZONE', 'ZONE_NAME']).agg(\n",
    "    Shots_Made=('SHOT_MADE', lambda x: x.sum()),       # Sum for shots made\n",
    "    Shots_Attempted=('SHOT_MADE', 'count')            # Count for shot attempts\n",
    ").reset_index()\n",
    "\n",
    "# Calculate efficiency for each zone (Shots_Made / Shots_Attempted)\n",
    "league_avg['Efficiency'] = league_avg['Shots_Made'] / league_avg['Shots_Attempted']\n",
    "\n",
    "# Display the league averages\n",
    "print(league_avg)\n"
   ]
  },
  {
   "cell_type": "code",
   "execution_count": 7,
   "metadata": {},
   "outputs": [
    {
     "name": "stdout",
     "output_type": "stream",
     "text": [
      "               BASIC_ZONE          ZONE_NAME  Shots_Made  Shots_Attempted  \\\n",
      "0       Above the Break 3             Center         587             1630   \n",
      "1       Above the Break 3   Left Side Center         819             2232   \n",
      "2       Above the Break 3  Right Side Center         681             1937   \n",
      "3   In The Paint (Non-RA)             Center        1706             3846   \n",
      "4   In The Paint (Non-RA)          Left Side          80              177   \n",
      "5   In The Paint (Non-RA)         Right Side          87              220   \n",
      "6           Left Corner 3          Left Side         385              928   \n",
      "7               Mid-Range             Center         362              781   \n",
      "8               Mid-Range          Left Side         314              710   \n",
      "9               Mid-Range   Left Side Center         166              405   \n",
      "10              Mid-Range         Right Side         311              695   \n",
      "11              Mid-Range  Right Side Center         193              435   \n",
      "12        Restricted Area             Center        3946             6107   \n",
      "13         Right Corner 3         Right Side         358              959   \n",
      "\n",
      "    Efficiency  \n",
      "0     0.360123  \n",
      "1     0.366935  \n",
      "2     0.351575  \n",
      "3     0.443578  \n",
      "4     0.451977  \n",
      "5     0.395455  \n",
      "6     0.414871  \n",
      "7     0.463508  \n",
      "8     0.442254  \n",
      "9     0.409877  \n",
      "10    0.447482  \n",
      "11    0.443678  \n",
      "12    0.646144  \n",
      "13    0.373306  \n"
     ]
    }
   ],
   "source": [
    "# Filter the dataset for Atlanta Hawks\n",
    "hawks_data = data[data['TEAM_NAME'] == 'Atlanta Hawks']\n",
    "\n",
    "# Group the data by BASIC_ZONE and ZONE_NAME to calculate Hawks' averages\n",
    "hawks_avg = hawks_data.groupby(['BASIC_ZONE', 'ZONE_NAME']).agg(\n",
    "    Shots_Made=('SHOT_MADE', lambda x: x.sum()),       # Sum for shots made\n",
    "    Shots_Attempted=('SHOT_MADE', 'count')            # Count for shot attempts\n",
    ").reset_index()\n",
    "\n",
    "# Calculate efficiency for each zone (Shots_Made / Shots_Attempted)\n",
    "hawks_avg['Efficiency'] = hawks_avg['Shots_Made'] / hawks_avg['Shots_Attempted']\n",
    "\n",
    "# Display Hawks' averages\n",
    "print(hawks_avg)\n"
   ]
  },
  {
   "cell_type": "code",
   "execution_count": 8,
   "metadata": {},
   "outputs": [
    {
     "name": "stdout",
     "output_type": "stream",
     "text": [
      "Underperforming Zones (where Hawks are below league average):\n",
      "               BASIC_ZONE          ZONE_NAME  Shots_Made_Hawks  \\\n",
      "2       Above the Break 3  Right Side Center               681   \n",
      "5   In The Paint (Non-RA)         Right Side                87   \n",
      "12        Restricted Area             Center              3946   \n",
      "13         Right Corner 3         Right Side               358   \n",
      "\n",
      "    Shots_Attempted_Hawks  Efficiency_Hawks  Shots_Made_League  \\\n",
      "2                    1937          0.351575              23638   \n",
      "5                     220          0.395455               3002   \n",
      "12                   6107          0.646144             121256   \n",
      "13                    959          0.373306              10973   \n",
      "\n",
      "    Shots_Attempted_League  Efficiency_League  Efficiency_Diff  \n",
      "2                    66234           0.356886        -0.005312  \n",
      "5                     6885           0.436020        -0.040566  \n",
      "12                  185410           0.653988        -0.007845  \n",
      "13                   28490           0.385153        -0.011847  \n"
     ]
    }
   ],
   "source": [
    "# Merge the Hawks' data with the league average data to compare efficiency\n",
    "comparison = pd.merge(hawks_avg, league_avg, on=['BASIC_ZONE', 'ZONE_NAME'], suffixes=('_Hawks', '_League'))\n",
    "\n",
    "# Calculate the difference in efficiency\n",
    "comparison['Efficiency_Diff'] = comparison['Efficiency_Hawks'] - comparison['Efficiency_League']\n",
    "\n",
    "# Identify zones where Hawks are below league average\n",
    "underperforming_zones = comparison[comparison['Efficiency_Diff'] < 0]\n",
    "print(\"Underperforming Zones (where Hawks are below league average):\")\n",
    "print(underperforming_zones)\n"
   ]
  },
  {
   "cell_type": "code",
   "execution_count": 9,
   "metadata": {
    "scrolled": false
   },
   "outputs": [
    {
     "name": "stdout",
     "output_type": "stream",
     "text": [
      "Top 5 Most Efficient Players for Selected Zones (minimum 150 shots):\n",
      "             PLAYER_NAME         BASIC_ZONE   ZONE_NAME  SHOT_MADE  \\\n",
      "49          Bobby Portis  Above the Break 3      Center         86   \n",
      "165         Desmond Bane  Above the Break 3      Center        111   \n",
      "27        Andrew Wiggins  Above the Break 3      Center         66   \n",
      "383   Karl-Anthony Towns  Above the Break 3      Center        148   \n",
      "447         Luke Kennard  Above the Break 3      Center         76   \n",
      "57               Bol Bol    Restricted Area      Center        170   \n",
      "615  Robert Williams III    Restricted Area      Center        511   \n",
      "137       Daniel Gafford    Restricted Area      Center        603   \n",
      "239       Gary Payton II    Restricted Area      Center        171   \n",
      "133         Damian Jones    Restricted Area      Center        228   \n",
      "607        Tobias Harris     Right Corner 3  Right Side         72   \n",
      "50     Bogdan Bogdanovic     Right Corner 3  Right Side         72   \n",
      "489        Nicolas Batum     Right Corner 3  Right Side         84   \n",
      "79       Cameron Johnson     Right Corner 3  Right Side        100   \n",
      "220       Grant Williams     Right Corner 3  Right Side         73   \n",
      "\n",
      "     SHOT_ATTEMPTED  Efficiency  \n",
      "49              187    0.459893  \n",
      "165             251    0.442231  \n",
      "27              152    0.434211  \n",
      "383             346    0.427746  \n",
      "447             180    0.422222  \n",
      "57              204    0.833333  \n",
      "615             637    0.802198  \n",
      "137             759    0.794466  \n",
      "239             217    0.788018  \n",
      "133             290    0.786207  \n",
      "607             150    0.480000  \n",
      "50              150    0.480000  \n",
      "489             176    0.477273  \n",
      "79              212    0.471698  \n",
      "220             155    0.470968  \n"
     ]
    }
   ],
   "source": [
    "# Step: Filter for specific zones and find top 5 players by efficiency (minimum 150 shots)\n",
    "\n",
    "# Define the specific zones to filter\n",
    "specific_zones = [\n",
    "    {'BASIC_ZONE': 'Above the Break 3', 'ZONE_NAME': 'Center'},\n",
    "    {'BASIC_ZONE': 'In The Paint (Non-RA)', 'ZONE_NAME': 'Right Side'},\n",
    "    {'BASIC_ZONE': 'Restricted Area', 'ZONE_NAME': 'Center'},\n",
    "    {'BASIC_ZONE': 'Right Corner 3', 'ZONE_NAME': 'Right Side'}\n",
    "]\n",
    "\n",
    "# Initialize an empty dataframe to store top players for each zone\n",
    "top_players_by_zone = pd.DataFrame()\n",
    "\n",
    "# Loop through each specific zone\n",
    "for zone in specific_zones:\n",
    "    # Filter the dataset for the specific BASIC_ZONE and ZONE_NAME\n",
    "    zone_players = data[(data['BASIC_ZONE'] == zone['BASIC_ZONE']) & (data['ZONE_NAME'] == zone['ZONE_NAME'])]\n",
    "    \n",
    "    # Group by PLAYER_NAME, BASIC_ZONE, and ZONE_NAME, calculate total shots made and attempted\n",
    "    zone_players_agg = zone_players.groupby(['PLAYER_NAME', 'BASIC_ZONE', 'ZONE_NAME']).agg(\n",
    "        SHOT_ATTEMPTED=('SHOT_MADE', 'count'),\n",
    "        SHOT_MADE=('SHOT_MADE', lambda x: x.sum())\n",
    "    ).reset_index()\n",
    "    \n",
    "    # Calculate efficiency for each player\n",
    "    zone_players_agg['Efficiency'] = zone_players_agg['SHOT_MADE'] / zone_players_agg['SHOT_ATTEMPTED']\n",
    "    \n",
    "    # Filter players who have attempted at least 150 shots in the zone\n",
    "    zone_players_filtered = zone_players_agg[zone_players_agg['SHOT_ATTEMPTED'] >= 150]\n",
    "    \n",
    "    # Sort by Efficiency in descending order and keep the top 5 players\n",
    "    top_zone_players = zone_players_filtered.sort_values(by='Efficiency', ascending=False).head(5)\n",
    "    \n",
    "    # Append the results to the main dataframe\n",
    "    top_players_by_zone = pd.concat([top_players_by_zone, top_zone_players])\n",
    "\n",
    "# Display the top 5 most efficient players for each specific zone\n",
    "print(\"Top 5 Most Efficient Players for Selected Zones (minimum 150 shots):\")\n",
    "print(top_players_by_zone[['PLAYER_NAME', 'BASIC_ZONE', 'ZONE_NAME', 'SHOT_MADE', 'SHOT_ATTEMPTED', 'Efficiency']])\n"
   ]
  },
  {
   "cell_type": "code",
   "execution_count": 17,
   "metadata": {},
   "outputs": [
    {
     "name": "stdout",
     "output_type": "stream",
     "text": [
      "Linear Regression Mean Squared Error: 0.0025196475573289988\n",
      "Decision Tree Mean Squared Error: 0.002212359326732406\n",
      "Random Forest Mean Squared Error: 0.0016644300372631005\n",
      "Linear Regression MSE: 0.0025196475573289988\n",
      "Decision Tree MSE: 0.002212359326732406\n",
      "Random Forest MSE: 0.0016644300372631005\n"
     ]
    }
   ],
   "source": [
    "# Step 1: Load necessary libraries\n",
    "import pandas as pd\n",
    "from sklearn.model_selection import train_test_split\n",
    "from sklearn.linear_model import LinearRegression\n",
    "from sklearn.tree import DecisionTreeRegressor\n",
    "from sklearn.ensemble import RandomForestRegressor\n",
    "from sklearn.metrics import mean_squared_error\n",
    "\n",
    "# Step 2: Load the data (assuming shots_2021, shots_2022, and shots_2023 are already loaded)\n",
    "data = pd.concat([shots_2021, shots_2022, shots_2023])\n",
    "\n",
    "# Step 3: Remove 'Backcourt' zone as it's irrelevant\n",
    "data = data[data['ZONE_NAME'] != 'Backcourt']\n",
    "\n",
    "# Step 4: Calculate league averages by zone (dropping the backcourt)\n",
    "league_avg = data.groupby(['BASIC_ZONE', 'ZONE_NAME']).agg(\n",
    "    Shots_Made=('SHOT_MADE', lambda x: sum(x == True)),\n",
    "    Shots_Attempted=('SHOT_MADE', 'count')\n",
    ")\n",
    "league_avg['Efficiency'] = league_avg['Shots_Made'] / league_avg['Shots_Attempted']\n",
    "\n",
    "# Step 5: Calculate Hawks' averages by zone\n",
    "hawks_data = data[data['TEAM_NAME'] == 'Atlanta Hawks']\n",
    "hawks_avg = hawks_data.groupby(['BASIC_ZONE', 'ZONE_NAME']).agg(\n",
    "    Shots_Made_Hawks=('SHOT_MADE', lambda x: sum(x == True)),\n",
    "    Shots_Attempted_Hawks=('SHOT_MADE', 'count')\n",
    ")\n",
    "hawks_avg['Efficiency_Hawks'] = hawks_avg['Shots_Made_Hawks'] / hawks_avg['Shots_Attempted_Hawks']\n",
    "\n",
    "# Step 6: Merge the player data with Hawks' averages\n",
    "player_avg = data.groupby(['PLAYER_NAME', 'BASIC_ZONE', 'ZONE_NAME']).agg(\n",
    "    SHOT_MADE=('SHOT_MADE', lambda x: sum(x == True)),\n",
    "    SHOT_ATTEMPTED=('SHOT_MADE', 'count')\n",
    ")\n",
    "player_avg['Efficiency'] = player_avg['SHOT_MADE'] / player_avg['SHOT_ATTEMPTED']\n",
    "\n",
    "# Step 7: Merge player efficiency with Hawks' efficiency\n",
    "merged_data = player_avg.merge(hawks_avg, on=['BASIC_ZONE', 'ZONE_NAME'], suffixes=('_Player', '_Hawks'))\n",
    "\n",
    "# Step 8: Filter players with more than 150 shots attempted in the selected zones\n",
    "merged_data = merged_data[merged_data['SHOT_ATTEMPTED'] >= 150]\n",
    "\n",
    "# Step 9: Prepare data for modeling\n",
    "# Features: Player efficiency and shots attempted; Target: Hawks' efficiency\n",
    "X = merged_data[['Efficiency', 'SHOT_ATTEMPTED']]\n",
    "y = merged_data['Efficiency_Hawks']\n",
    "\n",
    "# Split data into training and test sets\n",
    "X_train, X_test, y_train, y_test = train_test_split(X, y, test_size=0.2, random_state=42)\n",
    "\n",
    "# Step 10: Model 1 - Linear Regression\n",
    "linear_model = LinearRegression()\n",
    "linear_model.fit(X_train, y_train)\n",
    "y_pred_linear = linear_model.predict(X_test)\n",
    "\n",
    "# Evaluate Linear Regression Model\n",
    "mse_linear = mean_squared_error(y_test, y_pred_linear)\n",
    "print(f'Linear Regression Mean Squared Error: {mse_linear}')\n",
    "\n",
    "# Step 11: Model 2 - Decision Tree Regressor\n",
    "tree_model = DecisionTreeRegressor(random_state=42)\n",
    "tree_model.fit(X_train, y_train)\n",
    "y_pred_tree = tree_model.predict(X_test)\n",
    "\n",
    "# Evaluate Decision Tree Model\n",
    "mse_tree = mean_squared_error(y_test, y_pred_tree)\n",
    "print(f'Decision Tree Mean Squared Error: {mse_tree}')\n",
    "\n",
    "# Step 12: Model 3 - Random Forest Regressor\n",
    "forest_model = RandomForestRegressor(random_state=42, n_estimators=100)\n",
    "forest_model.fit(X_train, y_train)\n",
    "y_pred_forest = forest_model.predict(X_test)\n",
    "\n",
    "# Evaluate Random Forest Model\n",
    "mse_forest = mean_squared_error(y_test, y_pred_forest)\n",
    "print(f'Random Forest Mean Squared Error: {mse_forest}')\n",
    "\n",
    "# Step 13: Compare the models and determine which one has the lowest MSE\n",
    "model_performance = {\n",
    "    'Linear Regression': mse_linear,\n",
    "    'Decision Tree': mse_tree,\n",
    "    'Random Forest': mse_forest\n",
    "}\n",
    "\n",
    "# Display model performance\n",
    "for model, mse in model_performance.items():\n",
    "    print(f'{model} MSE: {mse}')\n",
    "\n",
    "# Conclusion: Based on the MSE values, the model with the lowest MSE is the best for evaluating player impact.\n",
    "\n"
   ]
  },
  {
   "cell_type": "code",
   "execution_count": 18,
   "metadata": {},
   "outputs": [
    {
     "ename": "KeyError",
     "evalue": "\"['ZONE_NAME', 'BASIC_ZONE', 'PLAYER_NAME'] not in index\"",
     "output_type": "error",
     "traceback": [
      "\u001b[0;31m---------------------------------------------------------------------------\u001b[0m",
      "\u001b[0;31mKeyError\u001b[0m                                  Traceback (most recent call last)",
      "\u001b[0;32m<ipython-input-18-1315bc914135>\u001b[0m in \u001b[0;36m<module>\u001b[0;34m\u001b[0m\n\u001b[1;32m     19\u001b[0m \u001b[0;34m\u001b[0m\u001b[0m\n\u001b[1;32m     20\u001b[0m \u001b[0;31m# Display the player data with predicted efficiencies\u001b[0m\u001b[0;34m\u001b[0m\u001b[0;34m\u001b[0m\u001b[0;34m\u001b[0m\u001b[0m\n\u001b[0;32m---> 21\u001b[0;31m \u001b[0mprint\u001b[0m\u001b[0;34m(\u001b[0m\u001b[0mmerged_data\u001b[0m\u001b[0;34m[\u001b[0m\u001b[0;34m[\u001b[0m\u001b[0;34m'PLAYER_NAME'\u001b[0m\u001b[0;34m,\u001b[0m \u001b[0;34m'BASIC_ZONE'\u001b[0m\u001b[0;34m,\u001b[0m \u001b[0;34m'ZONE_NAME'\u001b[0m\u001b[0;34m,\u001b[0m \u001b[0;34m'Efficiency'\u001b[0m\u001b[0;34m,\u001b[0m \u001b[0;34m'Predicted_Efficiency_Linear'\u001b[0m\u001b[0;34m,\u001b[0m \u001b[0;34m'Predicted_Efficiency_Tree'\u001b[0m\u001b[0;34m,\u001b[0m \u001b[0;34m'Predicted_Efficiency_Forest'\u001b[0m\u001b[0;34m]\u001b[0m\u001b[0;34m]\u001b[0m\u001b[0;34m.\u001b[0m\u001b[0mhead\u001b[0m\u001b[0;34m(\u001b[0m\u001b[0;34m)\u001b[0m\u001b[0;34m)\u001b[0m\u001b[0;34m\u001b[0m\u001b[0;34m\u001b[0m\u001b[0m\n\u001b[0m\u001b[1;32m     22\u001b[0m \u001b[0;34m\u001b[0m\u001b[0m\n\u001b[1;32m     23\u001b[0m \u001b[0;31m# Rank the players based on the predicted improvements\u001b[0m\u001b[0;34m\u001b[0m\u001b[0;34m\u001b[0m\u001b[0;34m\u001b[0m\u001b[0m\n",
      "\u001b[0;32m~/opt/anaconda3/lib/python3.8/site-packages/pandas/core/frame.py\u001b[0m in \u001b[0;36m__getitem__\u001b[0;34m(self, key)\u001b[0m\n\u001b[1;32m   2906\u001b[0m             \u001b[0;32mif\u001b[0m \u001b[0mis_iterator\u001b[0m\u001b[0;34m(\u001b[0m\u001b[0mkey\u001b[0m\u001b[0;34m)\u001b[0m\u001b[0;34m:\u001b[0m\u001b[0;34m\u001b[0m\u001b[0;34m\u001b[0m\u001b[0m\n\u001b[1;32m   2907\u001b[0m                 \u001b[0mkey\u001b[0m \u001b[0;34m=\u001b[0m \u001b[0mlist\u001b[0m\u001b[0;34m(\u001b[0m\u001b[0mkey\u001b[0m\u001b[0;34m)\u001b[0m\u001b[0;34m\u001b[0m\u001b[0;34m\u001b[0m\u001b[0m\n\u001b[0;32m-> 2908\u001b[0;31m             \u001b[0mindexer\u001b[0m \u001b[0;34m=\u001b[0m \u001b[0mself\u001b[0m\u001b[0;34m.\u001b[0m\u001b[0mloc\u001b[0m\u001b[0;34m.\u001b[0m\u001b[0m_get_listlike_indexer\u001b[0m\u001b[0;34m(\u001b[0m\u001b[0mkey\u001b[0m\u001b[0;34m,\u001b[0m \u001b[0maxis\u001b[0m\u001b[0;34m=\u001b[0m\u001b[0;36m1\u001b[0m\u001b[0;34m,\u001b[0m \u001b[0mraise_missing\u001b[0m\u001b[0;34m=\u001b[0m\u001b[0;32mTrue\u001b[0m\u001b[0;34m)\u001b[0m\u001b[0;34m[\u001b[0m\u001b[0;36m1\u001b[0m\u001b[0;34m]\u001b[0m\u001b[0;34m\u001b[0m\u001b[0;34m\u001b[0m\u001b[0m\n\u001b[0m\u001b[1;32m   2909\u001b[0m \u001b[0;34m\u001b[0m\u001b[0m\n\u001b[1;32m   2910\u001b[0m         \u001b[0;31m# take() does not accept boolean indexers\u001b[0m\u001b[0;34m\u001b[0m\u001b[0;34m\u001b[0m\u001b[0;34m\u001b[0m\u001b[0m\n",
      "\u001b[0;32m~/opt/anaconda3/lib/python3.8/site-packages/pandas/core/indexing.py\u001b[0m in \u001b[0;36m_get_listlike_indexer\u001b[0;34m(self, key, axis, raise_missing)\u001b[0m\n\u001b[1;32m   1252\u001b[0m             \u001b[0mkeyarr\u001b[0m\u001b[0;34m,\u001b[0m \u001b[0mindexer\u001b[0m\u001b[0;34m,\u001b[0m \u001b[0mnew_indexer\u001b[0m \u001b[0;34m=\u001b[0m \u001b[0max\u001b[0m\u001b[0;34m.\u001b[0m\u001b[0m_reindex_non_unique\u001b[0m\u001b[0;34m(\u001b[0m\u001b[0mkeyarr\u001b[0m\u001b[0;34m)\u001b[0m\u001b[0;34m\u001b[0m\u001b[0;34m\u001b[0m\u001b[0m\n\u001b[1;32m   1253\u001b[0m \u001b[0;34m\u001b[0m\u001b[0m\n\u001b[0;32m-> 1254\u001b[0;31m         \u001b[0mself\u001b[0m\u001b[0;34m.\u001b[0m\u001b[0m_validate_read_indexer\u001b[0m\u001b[0;34m(\u001b[0m\u001b[0mkeyarr\u001b[0m\u001b[0;34m,\u001b[0m \u001b[0mindexer\u001b[0m\u001b[0;34m,\u001b[0m \u001b[0maxis\u001b[0m\u001b[0;34m,\u001b[0m \u001b[0mraise_missing\u001b[0m\u001b[0;34m=\u001b[0m\u001b[0mraise_missing\u001b[0m\u001b[0;34m)\u001b[0m\u001b[0;34m\u001b[0m\u001b[0;34m\u001b[0m\u001b[0m\n\u001b[0m\u001b[1;32m   1255\u001b[0m         \u001b[0;32mreturn\u001b[0m \u001b[0mkeyarr\u001b[0m\u001b[0;34m,\u001b[0m \u001b[0mindexer\u001b[0m\u001b[0;34m\u001b[0m\u001b[0;34m\u001b[0m\u001b[0m\n\u001b[1;32m   1256\u001b[0m \u001b[0;34m\u001b[0m\u001b[0m\n",
      "\u001b[0;32m~/opt/anaconda3/lib/python3.8/site-packages/pandas/core/indexing.py\u001b[0m in \u001b[0;36m_validate_read_indexer\u001b[0;34m(self, key, indexer, axis, raise_missing)\u001b[0m\n\u001b[1;32m   1302\u001b[0m             \u001b[0;32mif\u001b[0m \u001b[0mraise_missing\u001b[0m\u001b[0;34m:\u001b[0m\u001b[0;34m\u001b[0m\u001b[0;34m\u001b[0m\u001b[0m\n\u001b[1;32m   1303\u001b[0m                 \u001b[0mnot_found\u001b[0m \u001b[0;34m=\u001b[0m \u001b[0mlist\u001b[0m\u001b[0;34m(\u001b[0m\u001b[0mset\u001b[0m\u001b[0;34m(\u001b[0m\u001b[0mkey\u001b[0m\u001b[0;34m)\u001b[0m \u001b[0;34m-\u001b[0m \u001b[0mset\u001b[0m\u001b[0;34m(\u001b[0m\u001b[0max\u001b[0m\u001b[0;34m)\u001b[0m\u001b[0;34m)\u001b[0m\u001b[0;34m\u001b[0m\u001b[0;34m\u001b[0m\u001b[0m\n\u001b[0;32m-> 1304\u001b[0;31m                 \u001b[0;32mraise\u001b[0m \u001b[0mKeyError\u001b[0m\u001b[0;34m(\u001b[0m\u001b[0;34mf\"{not_found} not in index\"\u001b[0m\u001b[0;34m)\u001b[0m\u001b[0;34m\u001b[0m\u001b[0;34m\u001b[0m\u001b[0m\n\u001b[0m\u001b[1;32m   1305\u001b[0m \u001b[0;34m\u001b[0m\u001b[0m\n\u001b[1;32m   1306\u001b[0m             \u001b[0;31m# we skip the warning on Categorical\u001b[0m\u001b[0;34m\u001b[0m\u001b[0;34m\u001b[0m\u001b[0;34m\u001b[0m\u001b[0m\n",
      "\u001b[0;31mKeyError\u001b[0m: \"['ZONE_NAME', 'BASIC_ZONE', 'PLAYER_NAME'] not in index\""
     ]
    }
   ],
   "source": [
    "# Simulate new players' performance using trained models\n",
    "\n",
    "# Use player data from the filtered dataset (those with 150+ shots)\n",
    "X_new = merged_data[['Efficiency', 'SHOT_ATTEMPTED']]  # Features for prediction\n",
    "\n",
    "# Predict performance using Linear Regression\n",
    "pred_linear = linear_model.predict(X_new)\n",
    "\n",
    "# Predict performance using Decision Tree\n",
    "pred_tree = tree_model.predict(X_new)\n",
    "\n",
    "# Predict performance using Random Forest\n",
    "pred_forest = forest_model.predict(X_new)\n",
    "\n",
    "# Add predictions to the player data\n",
    "merged_data['Predicted_Efficiency_Linear'] = pred_linear\n",
    "merged_data['Predicted_Efficiency_Tree'] = pred_tree\n",
    "merged_data['Predicted_Efficiency_Forest'] = pred_forest\n",
    "\n",
    "# Display the player data with predicted efficiencies\n",
    "print(merged_data[['PLAYER_NAME', 'BASIC_ZONE', 'ZONE_NAME', 'Efficiency', 'Predicted_Efficiency_Linear', 'Predicted_Efficiency_Tree', 'Predicted_Efficiency_Forest']].head())\n",
    "\n",
    "# Rank the players based on the predicted improvements\n",
    "merged_data['Improvement_Linear'] = merged_data['Predicted_Efficiency_Linear'] - merged_data['Efficiency_Hawks']\n",
    "merged_data['Improvement_Tree'] = merged_data['Predicted_Efficiency_Tree'] - merged_data['Efficiency_Hawks']\n",
    "merged_data['Improvement_Forest'] = merged_data['Predicted_Efficiency_Forest'] - merged_data['Efficiency_Hawks']\n",
    "\n",
    "# Display top players based on predicted improvement (Random Forest as example)\n",
    "top_players = merged_data.sort_values(by='Improvement_Forest', ascending=False)\n",
    "\n",
    "print(top_players[['PLAYER_NAME', 'BASIC_ZONE', 'ZONE_NAME', 'Efficiency', 'Efficiency_Hawks', 'Predicted_Efficiency_Forest', 'Improvement_Forest']].head())\n"
   ]
  },
  {
   "cell_type": "code",
   "execution_count": 19,
   "metadata": {},
   "outputs": [
    {
     "name": "stdout",
     "output_type": "stream",
     "text": [
      "Scaled Linear Regression MSE: 0.0025196475573289988\n",
      "Scaled Decision Tree MSE: 0.0022283529223318644\n",
      "Scaled Random Forest MSE: 0.0016630042868038424\n"
     ]
    }
   ],
   "source": [
    "from sklearn.preprocessing import StandardScaler\n",
    "\n",
    "# Step 1: Initialize the scaler\n",
    "scaler = StandardScaler()\n",
    "    \n",
    "# Step 2: Fit and transform the features (X)\n",
    "X_scaled = scaler.fit_transform(X)\n",
    "\n",
    "# Step 3: Split the scaled data into training and test sets\n",
    "X_train_scaled, X_test_scaled, y_train, y_test = train_test_split(X_scaled, y, test_size=0.2, random_state=42)\n",
    "\n",
    "# Step 4: Re-run the models on the scaled data\n",
    "# Linear Regression\n",
    "linear_model.fit(X_train_scaled, y_train)\n",
    "y_pred_linear_scaled = linear_model.predict(X_test_scaled)\n",
    "mse_linear_scaled = mean_squared_error(y_test, y_pred_linear_scaled)\n",
    "print(f'Scaled Linear Regression MSE: {mse_linear_scaled}')\n",
    "\n",
    "# Decision Tree\n",
    "tree_model.fit(X_train_scaled, y_train)\n",
    "y_pred_tree_scaled = tree_model.predict(X_test_scaled)\n",
    "mse_tree_scaled = mean_squared_error(y_test, y_pred_tree_scaled)\n",
    "print(f'Scaled Decision Tree MSE: {mse_tree_scaled}')\n",
    "\n",
    "# Random Forest\n",
    "forest_model.fit(X_train_scaled, y_train)\n",
    "y_pred_forest_scaled = forest_model.predict(X_test_scaled)\n",
    "mse_forest_scaled = mean_squared_error(y_test, y_pred_forest_scaled)\n",
    "print(f'Scaled Random Forest MSE: {mse_forest_scaled}')\n"
   ]
  },
  {
   "cell_type": "code",
   "execution_count": 20,
   "metadata": {},
   "outputs": [
    {
     "ename": "KeyError",
     "evalue": "\"['PLAYER_NAME'] not in index\"",
     "output_type": "error",
     "traceback": [
      "\u001b[0;31m---------------------------------------------------------------------------\u001b[0m",
      "\u001b[0;31mKeyError\u001b[0m                                  Traceback (most recent call last)",
      "\u001b[0;32m<ipython-input-20-39e03b378f36>\u001b[0m in \u001b[0;36m<module>\u001b[0;34m\u001b[0m\n\u001b[1;32m     18\u001b[0m \u001b[0;34m\u001b[0m\u001b[0m\n\u001b[1;32m     19\u001b[0m \u001b[0;31m# Step 7: Display the top 5 players who would bring the most improvement to the Hawks\u001b[0m\u001b[0;34m\u001b[0m\u001b[0;34m\u001b[0m\u001b[0;34m\u001b[0m\u001b[0m\n\u001b[0;32m---> 20\u001b[0;31m \u001b[0mprint\u001b[0m\u001b[0;34m(\u001b[0m\u001b[0mtop_players_forest_scaled\u001b[0m\u001b[0;34m[\u001b[0m\u001b[0;34m[\u001b[0m\u001b[0;34m'PLAYER_NAME'\u001b[0m\u001b[0;34m,\u001b[0m \u001b[0;34m'BASIC_ZONE'\u001b[0m\u001b[0;34m,\u001b[0m \u001b[0;34m'ZONE_NAME'\u001b[0m\u001b[0;34m,\u001b[0m \u001b[0;34m'Efficiency'\u001b[0m\u001b[0;34m,\u001b[0m \u001b[0;34m'Efficiency_Hawks'\u001b[0m\u001b[0;34m,\u001b[0m \u001b[0;34m'Predicted_Efficiency_Forest_Scaled'\u001b[0m\u001b[0;34m,\u001b[0m \u001b[0;34m'Improvement_Forest_Scaled'\u001b[0m\u001b[0;34m]\u001b[0m\u001b[0;34m]\u001b[0m\u001b[0;34m.\u001b[0m\u001b[0mhead\u001b[0m\u001b[0;34m(\u001b[0m\u001b[0;36m5\u001b[0m\u001b[0;34m)\u001b[0m\u001b[0;34m)\u001b[0m\u001b[0;34m\u001b[0m\u001b[0;34m\u001b[0m\u001b[0m\n\u001b[0m",
      "\u001b[0;32m~/opt/anaconda3/lib/python3.8/site-packages/pandas/core/frame.py\u001b[0m in \u001b[0;36m__getitem__\u001b[0;34m(self, key)\u001b[0m\n\u001b[1;32m   2906\u001b[0m             \u001b[0;32mif\u001b[0m \u001b[0mis_iterator\u001b[0m\u001b[0;34m(\u001b[0m\u001b[0mkey\u001b[0m\u001b[0;34m)\u001b[0m\u001b[0;34m:\u001b[0m\u001b[0;34m\u001b[0m\u001b[0;34m\u001b[0m\u001b[0m\n\u001b[1;32m   2907\u001b[0m                 \u001b[0mkey\u001b[0m \u001b[0;34m=\u001b[0m \u001b[0mlist\u001b[0m\u001b[0;34m(\u001b[0m\u001b[0mkey\u001b[0m\u001b[0;34m)\u001b[0m\u001b[0;34m\u001b[0m\u001b[0;34m\u001b[0m\u001b[0m\n\u001b[0;32m-> 2908\u001b[0;31m             \u001b[0mindexer\u001b[0m \u001b[0;34m=\u001b[0m \u001b[0mself\u001b[0m\u001b[0;34m.\u001b[0m\u001b[0mloc\u001b[0m\u001b[0;34m.\u001b[0m\u001b[0m_get_listlike_indexer\u001b[0m\u001b[0;34m(\u001b[0m\u001b[0mkey\u001b[0m\u001b[0;34m,\u001b[0m \u001b[0maxis\u001b[0m\u001b[0;34m=\u001b[0m\u001b[0;36m1\u001b[0m\u001b[0;34m,\u001b[0m \u001b[0mraise_missing\u001b[0m\u001b[0;34m=\u001b[0m\u001b[0;32mTrue\u001b[0m\u001b[0;34m)\u001b[0m\u001b[0;34m[\u001b[0m\u001b[0;36m1\u001b[0m\u001b[0;34m]\u001b[0m\u001b[0;34m\u001b[0m\u001b[0;34m\u001b[0m\u001b[0m\n\u001b[0m\u001b[1;32m   2909\u001b[0m \u001b[0;34m\u001b[0m\u001b[0m\n\u001b[1;32m   2910\u001b[0m         \u001b[0;31m# take() does not accept boolean indexers\u001b[0m\u001b[0;34m\u001b[0m\u001b[0;34m\u001b[0m\u001b[0;34m\u001b[0m\u001b[0m\n",
      "\u001b[0;32m~/opt/anaconda3/lib/python3.8/site-packages/pandas/core/indexing.py\u001b[0m in \u001b[0;36m_get_listlike_indexer\u001b[0;34m(self, key, axis, raise_missing)\u001b[0m\n\u001b[1;32m   1252\u001b[0m             \u001b[0mkeyarr\u001b[0m\u001b[0;34m,\u001b[0m \u001b[0mindexer\u001b[0m\u001b[0;34m,\u001b[0m \u001b[0mnew_indexer\u001b[0m \u001b[0;34m=\u001b[0m \u001b[0max\u001b[0m\u001b[0;34m.\u001b[0m\u001b[0m_reindex_non_unique\u001b[0m\u001b[0;34m(\u001b[0m\u001b[0mkeyarr\u001b[0m\u001b[0;34m)\u001b[0m\u001b[0;34m\u001b[0m\u001b[0;34m\u001b[0m\u001b[0m\n\u001b[1;32m   1253\u001b[0m \u001b[0;34m\u001b[0m\u001b[0m\n\u001b[0;32m-> 1254\u001b[0;31m         \u001b[0mself\u001b[0m\u001b[0;34m.\u001b[0m\u001b[0m_validate_read_indexer\u001b[0m\u001b[0;34m(\u001b[0m\u001b[0mkeyarr\u001b[0m\u001b[0;34m,\u001b[0m \u001b[0mindexer\u001b[0m\u001b[0;34m,\u001b[0m \u001b[0maxis\u001b[0m\u001b[0;34m,\u001b[0m \u001b[0mraise_missing\u001b[0m\u001b[0;34m=\u001b[0m\u001b[0mraise_missing\u001b[0m\u001b[0;34m)\u001b[0m\u001b[0;34m\u001b[0m\u001b[0;34m\u001b[0m\u001b[0m\n\u001b[0m\u001b[1;32m   1255\u001b[0m         \u001b[0;32mreturn\u001b[0m \u001b[0mkeyarr\u001b[0m\u001b[0;34m,\u001b[0m \u001b[0mindexer\u001b[0m\u001b[0;34m\u001b[0m\u001b[0;34m\u001b[0m\u001b[0m\n\u001b[1;32m   1256\u001b[0m \u001b[0;34m\u001b[0m\u001b[0m\n",
      "\u001b[0;32m~/opt/anaconda3/lib/python3.8/site-packages/pandas/core/indexing.py\u001b[0m in \u001b[0;36m_validate_read_indexer\u001b[0;34m(self, key, indexer, axis, raise_missing)\u001b[0m\n\u001b[1;32m   1302\u001b[0m             \u001b[0;32mif\u001b[0m \u001b[0mraise_missing\u001b[0m\u001b[0;34m:\u001b[0m\u001b[0;34m\u001b[0m\u001b[0;34m\u001b[0m\u001b[0m\n\u001b[1;32m   1303\u001b[0m                 \u001b[0mnot_found\u001b[0m \u001b[0;34m=\u001b[0m \u001b[0mlist\u001b[0m\u001b[0;34m(\u001b[0m\u001b[0mset\u001b[0m\u001b[0;34m(\u001b[0m\u001b[0mkey\u001b[0m\u001b[0;34m)\u001b[0m \u001b[0;34m-\u001b[0m \u001b[0mset\u001b[0m\u001b[0;34m(\u001b[0m\u001b[0max\u001b[0m\u001b[0;34m)\u001b[0m\u001b[0;34m)\u001b[0m\u001b[0;34m\u001b[0m\u001b[0;34m\u001b[0m\u001b[0m\n\u001b[0;32m-> 1304\u001b[0;31m                 \u001b[0;32mraise\u001b[0m \u001b[0mKeyError\u001b[0m\u001b[0;34m(\u001b[0m\u001b[0;34mf\"{not_found} not in index\"\u001b[0m\u001b[0;34m)\u001b[0m\u001b[0;34m\u001b[0m\u001b[0;34m\u001b[0m\u001b[0m\n\u001b[0m\u001b[1;32m   1305\u001b[0m \u001b[0;34m\u001b[0m\u001b[0m\n\u001b[1;32m   1306\u001b[0m             \u001b[0;31m# we skip the warning on Categorical\u001b[0m\u001b[0;34m\u001b[0m\u001b[0;34m\u001b[0m\u001b[0;34m\u001b[0m\u001b[0m\n",
      "\u001b[0;31mKeyError\u001b[0m: \"['PLAYER_NAME'] not in index\""
     ]
    }
   ],
   "source": [
    "# Step 1: Reset index of merged_data to flatten it\n",
    "merged_data = merged_data.reset_index()\n",
    "\n",
    "# Step 2: Ensure that X also has a reset index to align with merged_data\n",
    "X_reset = X.reset_index(drop=True)\n",
    "\n",
    "# Step 3: Align merged_data with X (after resetting index)\n",
    "merged_data_filtered = merged_data.loc[X_reset.index]  # Ensure same rows as X after reset\n",
    "\n",
    "# Step 4: Use the Random Forest model to predict the efficiency for the filtered data\n",
    "merged_data_filtered['Predicted_Efficiency_Forest_Scaled'] = forest_model.predict(X_scaled)\n",
    "\n",
    "# Step 5: Calculate the potential improvement each player would bring\n",
    "merged_data_filtered['Improvement_Forest_Scaled'] = merged_data_filtered['Predicted_Efficiency_Forest_Scaled'] - merged_data_filtered['Efficiency_Hawks']\n",
    "\n",
    "# Step 6: Sort the players by the highest potential improvement\n",
    "top_players_forest_scaled = merged_data_filtered.sort_values(by='Improvement_Forest_Scaled', ascending=False)\n",
    "\n",
    "# Step 7: Display the top 5 players who would bring the most improvement to the Hawks\n",
    "print(top_players_forest_scaled[['PLAYER_NAME', 'BASIC_ZONE', 'ZONE_NAME', 'Efficiency', 'Efficiency_Hawks', 'Predicted_Efficiency_Forest_Scaled', 'Improvement_Forest_Scaled']].head(5))\n"
   ]
  },
  {
   "cell_type": "code",
   "execution_count": 21,
   "metadata": {},
   "outputs": [
    {
     "data": {
      "image/png": "[encoded data removed]",
      "text/plain": [
       "<Figure size 720x432 with 1 Axes>"
      ]
     },
     "metadata": {
      "needs_background": "light"
     },
     "output_type": "display_data"
    }
   ],
   "source": [
    "import matplotlib.pyplot as plt\n",
    "import seaborn as sns\n",
    "\n",
    "# Step 1: Predict the efficiency using the Linear Regression model on test data\n",
    "y_pred_linear = linear_model.predict(X_test)\n",
    "\n",
    "# Step 2: Create a scatter plot to compare actual vs predicted values\n",
    "plt.figure(figsize=(10, 6))\n",
    "plt.scatter(y_test, y_pred_linear, color='blue', alpha=0.6)\n",
    "\n",
    "# Step 3: Add a diagonal line to show the perfect predictions (y = x)\n",
    "plt.plot([y_test.min(), y_test.max()], [y_test.min(), y_test.max()], 'k--', lw=2)\n",
    "\n",
    "# Step 4: Add labels and title\n",
    "plt.xlabel('Actual Efficiency (Hawks)')\n",
    "plt.ylabel('Predicted Efficiency (Hawks)')\n",
    "plt.title('Linear Regression: Actual vs Predicted Efficiency')\n",
    "\n",
    "# Step 5: Show the plot\n",
    "plt.show()\n"
   ]
  },
  {
   "cell_type": "code",
   "execution_count": 22,
   "metadata": {},
   "outputs": [
    {
     "data": {
      "image/png": "[encoded data removed]",
      "text/plain": [
       "<Figure size 720x432 with 1 Axes>"
      ]
     },
     "metadata": {
      "needs_background": "light"
     },
     "output_type": "display_data"
    }
   ],
   "source": [
    "# Step 1: Predict the efficiency using the Decision Tree model on test data\n",
    "y_pred_tree = tree_model.predict(X_test)\n",
    "\n",
    "# Step 2: Create a scatter plot to compare actual vs predicted values\n",
    "plt.figure(figsize=(10, 6))\n",
    "plt.scatter(y_test, y_pred_tree, color='green', alpha=0.6)\n",
    "\n",
    "# Step 3: Add a diagonal line to show the perfect predictions (y = x)\n",
    "plt.plot([y_test.min(), y_test.max()], [y_test.min(), y_test.max()], 'k--', lw=2)\n",
    "\n",
    "# Step 4: Add labels and title\n",
    "plt.xlabel('Actual Efficiency (Hawks)')\n",
    "plt.ylabel('Predicted Efficiency (Hawks)')\n",
    "plt.title('Decision Tree Regressor: Actual vs Predicted Efficiency')\n",
    "\n",
    "# Step 5: Show the plot\n",
    "plt.show()\n"
   ]
  },
  {
   "cell_type": "code",
   "execution_count": 23,
   "metadata": {},
   "outputs": [
    {
     "data": {
      "image/png": "[encoded data removed]",
      "text/plain": [
       "<Figure size 720x432 with 1 Axes>"
      ]
     },
     "metadata": {
      "needs_background": "light"
     },
     "output_type": "display_data"
    }
   ],
   "source": [
    "import matplotlib.pyplot as plt\n",
    "import numpy as np\n",
    "\n",
    "# Step 1: Predict efficiencies using the Random Forest model\n",
    "y_pred_forest = forest_model.predict(X_test_scaled)\n",
    "\n",
    "# Step 2: Create a scatter plot of actual vs predicted efficiencies\n",
    "plt.figure(figsize=(10, 6))\n",
    "plt.scatter(y_test, y_pred_forest, color='blue', label='Predicted vs Actual')\n",
    "\n",
    "# Step 3: Plot the ideal line (perfect prediction line)\n",
    "plt.plot([y_test.min(), y_test.max()], [y_test.min(), y_test.max()], 'r--', lw=2, label='Perfect Prediction')\n",
    "\n",
    "# Step 4: Add labels, title, and legend\n",
    "plt.xlabel('Actual Efficiency')\n",
    "plt.ylabel('Predicted Efficiency')\n",
    "plt.title('Random Forest Regressor: Actual vs Predicted Efficiencies')\n",
    "plt.legend()\n",
    "\n",
    "# Step 5: Display the plot\n",
    "plt.show()\n"
   ]
  },
  {
   "cell_type": "code",
   "execution_count": 24,
   "metadata": {},
   "outputs": [
    {
     "name": "stdout",
     "output_type": "stream",
     "text": [
      "Linear Regression Cross-Validation MSE: 0.0026633866022776893\n",
      "Decision Tree Cross-Validation MSE: 0.004077885558874216\n",
      "Random Forest Cross-Validation MSE: 0.0025157437293403424\n"
     ]
    }
   ],
   "source": [
    "from sklearn.model_selection import cross_val_score\n",
    "\n",
    "# Number of folds\n",
    "k = 5\n",
    "\n",
    "# Evaluate Linear Regression using cross-validation\n",
    "cv_scores_linear = cross_val_score(linear_model, X, y, cv=k, scoring='neg_mean_squared_error')\n",
    "print(f'Linear Regression Cross-Validation MSE: {-cv_scores_linear.mean()}')\n",
    "\n",
    "# Evaluate Decision Tree using cross-validation\n",
    "cv_scores_tree = cross_val_score(tree_model, X, y, cv=k, scoring='neg_mean_squared_error')\n",
    "print(f'Decision Tree Cross-Validation MSE: {-cv_scores_tree.mean()}')\n",
    "\n",
    "# Evaluate Random Forest using cross-validation\n",
    "cv_scores_forest = cross_val_score(forest_model, X, y, cv=k, scoring='neg_mean_squared_error')\n",
    "print(f'Random Forest Cross-Validation MSE: {-cv_scores_forest.mean()}')\n"
   ]
  },
  {
   "cell_type": "code",
   "execution_count": 25,
   "metadata": {},
   "outputs": [
    {
     "name": "stdout",
     "output_type": "stream",
     "text": [
      "Linear Regression Cross-Validation MSE: 0.0026633866022776893\n",
      "Decision Tree Cross-Validation MSE: 0.004077885558874216\n",
      "Random Forest Cross-Validation MSE: 0.0025157437293403424\n"
     ]
    }
   ],
   "source": [
    "from sklearn.model_selection import cross_val_score\n",
    "\n",
    "# Number of folds\n",
    "k = 5\n",
    "\n",
    "# Evaluate Linear Regression using cross-validation\n",
    "cv_scores_linear = cross_val_score(linear_model, X, y, cv=k, scoring='neg_mean_squared_error')\n",
    "print(f'Linear Regression Cross-Validation MSE: {-cv_scores_linear.mean()}')\n",
    "\n",
    "# Evaluate Decision Tree using cross-validation\n",
    "cv_scores_tree = cross_val_score(tree_model, X, y, cv=k, scoring='neg_mean_squared_error')\n",
    "print(f'Decision Tree Cross-Validation MSE: {-cv_scores_tree.mean()}')\n",
    "\n",
    "# Evaluate Random Forest using cross-validation\n",
    "cv_scores_forest = cross_val_score(forest_model, X, y, cv=k, scoring='neg_mean_squared_error')\n",
    "print(f'Random Forest Cross-Validation MSE: {-cv_scores_forest.mean()}')\n",
    "\n"
   ]
  },
  {
   "cell_type": "code",
   "execution_count": 26,
   "metadata": {},
   "outputs": [
    {
     "data": {
      "image/png": "[encoded data removed]",
      "text/plain": [
       "<Figure size 720x432 with 1 Axes>"
      ]
     },
     "metadata": {
      "needs_background": "light"
     },
     "output_type": "display_data"
    }
   ],
   "source": [
    "import matplotlib.pyplot as plt\n",
    "\n",
    "# Calculate residuals for Random Forest (as an example)\n",
    "y_pred_forest = forest_model.predict(X)\n",
    "residuals = y - y_pred_forest\n",
    "\n",
    "# Plot residuals\n",
    "plt.figure(figsize=(10, 6))\n",
    "plt.scatter(y_pred_forest, residuals, alpha=0.6, color='purple')\n",
    "plt.axhline(y=0, color='black', linestyle='--', lw=2)\n",
    "plt.xlabel('Predicted Efficiency (Random Forest)')\n",
    "plt.ylabel('Residuals')\n",
    "plt.title('Residual Analysis for Random Forest Model')\n",
    "plt.show()\n",
    "\n"
   ]
  },
  {
   "cell_type": "code",
   "execution_count": 27,
   "metadata": {},
   "outputs": [
    {
     "name": "stdout",
     "output_type": "stream",
     "text": [
      "Linear Regression Training MSE: 0.0022998626201664206\n",
      "Decision Tree Training MSE: 3.2917359133713934e-05\n",
      "Random Forest Training MSE: 0.00023895029217317013\n",
      "Scaled Linear Regression Test MSE: 0.0025196475573289988\n",
      "Scaled Decision Tree Test MSE: 0.0022283529223318644\n",
      "Scaled Random Forest Test MSE: 0.0016630042868038424\n"
     ]
    }
   ],
   "source": [
    "# Calculate MSE for training data\n",
    "y_pred_train_linear = linear_model.predict(X_train_scaled)\n",
    "mse_train_linear = mean_squared_error(y_train, y_pred_train_linear)\n",
    "print(f'Linear Regression Training MSE: {mse_train_linear}')\n",
    "\n",
    "y_pred_train_tree = tree_model.predict(X_train_scaled)\n",
    "mse_train_tree = mean_squared_error(y_train, y_pred_train_tree)\n",
    "print(f'Decision Tree Training MSE: {mse_train_tree}')\n",
    "\n",
    "y_pred_train_forest = forest_model.predict(X_train_scaled)\n",
    "mse_train_forest = mean_squared_error(y_train, y_pred_train_forest)\n",
    "print(f'Random Forest Training MSE: {mse_train_forest}')\n",
    "\n",
    "# Compare with test MSE\n",
    "print(f'Scaled Linear Regression Test MSE: {mse_linear_scaled}')\n",
    "print(f'Scaled Decision Tree Test MSE: {mse_tree_scaled}')\n",
    "print(f'Scaled Random Forest Test MSE: {mse_forest_scaled}')\n"
   ]
  },
  {
   "cell_type": "code",
   "execution_count": null,
   "metadata": {},
   "outputs": [],
   "source": []
  }
 ],
 "metadata": {
  "kernelspec": {
   "display_name": "Python 3",
   "language": "python",
   "name": "python3"
  },
  "language_info": {
   "codemirror_mode": {
    "name": "ipython",
    "version": 3
   },
   "file_extension": ".py",
   "mimetype": "text/x-python",
   "name": "python",
   "nbconvert_exporter": "python",
   "pygments_lexer": "ipython3",
   "version": "3.8.5"
  }
 },
 "nbformat": 4,
 "nbformat_minor": 5
}
